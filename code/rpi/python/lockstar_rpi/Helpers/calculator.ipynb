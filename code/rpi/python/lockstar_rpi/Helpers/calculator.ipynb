{
 "cells": [
  {
   "cell_type": "code",
   "execution_count": 212,
   "metadata": {},
   "outputs": [],
   "source": [
    "import numpy as np\n",
    "from math import ceil\n",
    "import matplotlib.pyplot as plt\n",
    "from lockstar_rpi.BackendSettings import BackendSettings\n",
    "from numpy import uint32\n",
    "from numpy import int32"
   ]
  },
  {
   "cell_type": "code",
   "execution_count": 213,
   "metadata": {},
   "outputs": [],
   "source": [
    "    def calculate_prescaler_counter(sampling_rate):\n",
    "        \"\"\"Calculate prescaler and counter for a given sampling_rate. The MC realizes a sampling rate by scaling down \n",
    "        the internal clock_frequency (BackendSettings.mc_sampling_clock_rate) with the prescaler and then counting up to\n",
    "        <counter> --> sampling_rate = internal_clock_rate / prescaler / counter\"\"\"\n",
    "        rate = BackendSettings.mc_sampling_clock_rate / sampling_rate\n",
    "        possible_counters = np.flip(np.arange(ceil(rate/BackendSettings.mc_max_counter), BackendSettings.mc_max_counter))\n",
    "        possible_prescalers = rate/possible_counters\n",
    "        best_prescaler = int(possible_prescalers[np.abs(possible_prescalers - possible_prescalers.astype(int)).argmin()])\n",
    "        best_counter = int(rate/best_prescaler)\n",
    "        return best_prescaler - 1  , best_counter - 1"
   ]
  },
  {
   "cell_type": "code",
   "execution_count": 215,
   "metadata": {},
   "outputs": [
    {
     "data": {
      "text/plain": [
       "(0, 499)"
      ]
     },
     "execution_count": 215,
     "metadata": {},
     "output_type": "execute_result"
    }
   ],
   "source": [
    "calculate_prescaler_counter(550000)"
   ]
  },
  {
   "cell_type": "code",
   "execution_count": 37,
   "metadata": {},
   "outputs": [],
   "source": [
    "bit=\"16\"\n",
    "TIM_BASE_CLOCK=275000000\n",
    "TARGET_F = 850000\n",
    "error=1\n",
    "max_results=-1\n",
    "DUTY=50.0"
   ]
  },
  {
   "cell_type": "code",
   "execution_count": 38,
   "metadata": {},
   "outputs": [
    {
     "name": "stdout",
     "output_type": "stream",
     "text": [
      "TARGET_UPDATE_F_MAX 275000000.0\n",
      "TARGET_UPDATE_F_MIN 0.06402842700481415\n"
     ]
    }
   ],
   "source": [
    "TARGET_ARR_MAX = { \"8\": 2**8-1, \"16\": 2**16-1, \"32\": 2**32-1 }\n",
    "TARGET_PSC_MAX= { \"16\": 2**16-1 }\n",
    "TARGET_PSC=0\n",
    "TARGET_ARR=0\n",
    "\n",
    "\n",
    "\n",
    "TARGET_UPDATE_F_MAX = TIM_BASE_CLOCK / ((TARGET_PSC + 1)*(TARGET_ARR+1))\n",
    "TARGET_UPDATE_F_MIN = TIM_BASE_CLOCK / ((TARGET_PSC_MAX[\"16\"] + 1)*(TARGET_ARR_MAX[bit]+1))\n",
    "print(\"TARGET_UPDATE_F_MAX\", TARGET_UPDATE_F_MAX)\n",
    "print(\"TARGET_UPDATE_F_MIN\", TARGET_UPDATE_F_MIN)"
   ]
  },
  {
   "cell_type": "code",
   "execution_count": 39,
   "metadata": {},
   "outputs": [],
   "source": [
    "results = []\n",
    "\n",
    "def search_arr_psc():\n",
    "    right = TIM_BASE_CLOCK / TARGET_F\n",
    "    # right=int(right)\n",
    "    print(\"(arr+1)*(psc+1) = TIM_BASE_CLOCK / TARGET_F\")\n",
    "    print(\"(arr+1)*(psc+1) =\", TIM_BASE_CLOCK, \"/\", TARGET_F)\n",
    "    print(\"(arr+1)*(psc+1) =\",right)\n",
    "    if TIM_BASE_CLOCK % TARGET_F != 0:\n",
    "        print(\"\\nSOLUTION WITHOUT ERROR NOT POSSIBLE - TIM_BASE_CLOCK / TARGET_F is not integer\")\n",
    "        if error == 0:\n",
    "            print(\"You must use an --error= value >0 for this frequency!\")\n",
    "            quit()\n",
    "    print( \"Calculate...\")\n",
    "    for psc in range(0,TARGET_PSC_MAX[\"16\"]+1):\n",
    "        x = (TIM_BASE_CLOCK / (TARGET_F * (psc+1))) -1 \n",
    "        if TIM_BASE_CLOCK  % (psc+1) == 0 and x <= TARGET_ARR_MAX[bit]:\n",
    "            for arr in range(0,TARGET_ARR_MAX[bit]+1):\n",
    "                left = (arr+1)*(psc+1) \n",
    "                pererror = abs((1- (TARGET_F / (TIM_BASE_CLOCK/left)))*100)\n",
    "                if pererror <= error:\n",
    "                    freq = TIM_BASE_CLOCK/left\n",
    "                    d = int(arr/(100.0/DUTY))\n",
    "                    results.append({\"psc\":psc,\"arr\":arr,\"left\":left,\"freq\":freq,\"pererror\":pererror,\"delta\":abs(freq-TARGET_F),\"duty\":d})\n",
    "def secondlist(x):\n",
    "    s = x\n",
    "    ms = x*(10**3)\n",
    "    us = x*(10**6)\n",
    "    ns = x*(10**9)\n",
    "    ps = x*(10**12)\n",
    "    fs = x*(10**15)\n",
    "    return {\"s\":s, \"ms\":ms, \"µs\":us, \"ns\":ns, \"ps\":ps, \"fs\":fs}\n"
   ]
  },
  {
   "cell_type": "code",
   "execution_count": 40,
   "metadata": {},
   "outputs": [
    {
     "name": "stdout",
     "output_type": "stream",
     "text": [
      "(arr+1)*(psc+1) = TIM_BASE_CLOCK / TARGET_F\n",
      "(arr+1)*(psc+1) = 275000000 / 850000\n",
      "(arr+1)*(psc+1) = 323.52941176470586\n",
      "\n",
      "SOLUTION WITHOUT ERROR NOT POSSIBLE - TIM_BASE_CLOCK / TARGET_F is not integer\n",
      "Calculate...\n",
      "PSC: 0 ARR: 323  => FREQ: 848765.4320987654 [Hz] ERROR: 0.1454545454545597 [%] - CRRx[ 50.0 %]: 161\n",
      "PSC: 1 ARR: 161  => FREQ: 848765.4320987654 [Hz] ERROR: 0.1454545454545597 [%] - CRRx[ 50.0 %]: 80\n",
      "PSC: 3 ARR: 80  => FREQ: 848765.4320987654 [Hz] ERROR: 0.1454545454545597 [%] - CRRx[ 50.0 %]: 40\n",
      "PSC: 0 ARR: 322  => FREQ: 851393.1888544891 [Hz] ERROR: 0.1636363636363547 [%] - CRRx[ 50.0 %]: 161\n",
      "PSC: 0 ARR: 324  => FREQ: 846153.8461538461 [Hz] ERROR: 0.454545454545463 [%] - CRRx[ 50.0 %]: 162\n",
      "PSC: 4 ARR: 64  => FREQ: 846153.8461538461 [Hz] ERROR: 0.454545454545463 [%] - CRRx[ 50.0 %]: 32\n",
      "PSC: 24 ARR: 12  => FREQ: 846153.8461538461 [Hz] ERROR: 0.454545454545463 [%] - CRRx[ 50.0 %]: 6\n",
      "PSC: 0 ARR: 321  => FREQ: 854037.2670807453 [Hz] ERROR: 0.4727272727272691 [%] - CRRx[ 50.0 %]: 160\n",
      "PSC: 1 ARR: 160  => FREQ: 854037.2670807453 [Hz] ERROR: 0.4727272727272691 [%] - CRRx[ 50.0 %]: 80\n",
      "PSC: 0 ARR: 325  => FREQ: 843558.2822085889 [Hz] ERROR: 0.7636363636363663 [%] - CRRx[ 50.0 %]: 162\n",
      "PSC: 1 ARR: 162  => FREQ: 843558.2822085889 [Hz] ERROR: 0.7636363636363663 [%] - CRRx[ 50.0 %]: 81\n",
      "PSC: 0 ARR: 320  => FREQ: 856697.8193146418 [Hz] ERROR: 0.7818181818181835 [%] - CRRx[ 50.0 %]: 160\n",
      "12 Results. Reduce with --max=\n"
     ]
    }
   ],
   "source": [
    "search_arr_psc()\n",
    "\n",
    "if error != 0:\n",
    "    result_sorted = sorted(results, key = lambda i: (i['pererror']))\n",
    "else:\n",
    "    result_sorted = sorted(results, key = lambda i: (i['psc']))\n",
    "\n",
    "j=0\n",
    "for i in result_sorted:\n",
    "    if j == max_results:\n",
    "        quit()\n",
    "    print(\"PSC:\",i[\"psc\"],\"ARR:\",i[\"arr\"],\" => FREQ:\",i[\"freq\"],\"[Hz]\",\"ERROR:\",i[\"pererror\"],\"[%] - CRRx[\",DUTY,\"%]:\",i[\"duty\"])\n",
    "    j+=1\n",
    "print (j,\"Results. Reduce with --max=\")"
   ]
  },
  {
   "cell_type": "code",
   "execution_count": 191,
   "metadata": {},
   "outputs": [],
   "source": [
    "num_samples = 10000\n",
    "amplitude = np.float32(1.0)\n",
    "frequency = np.float32(1.0)\n",
    "x_values = np.float32(np.linspace(1, -1, num_samples+1))"
   ]
  },
  {
   "cell_type": "code",
   "execution_count": 192,
   "metadata": {},
   "outputs": [
    {
     "data": {
      "text/plain": [
       "<matplotlib.collections.LineCollection at 0x1eee7cc5c90>"
      ]
     },
     "execution_count": 192,
     "metadata": {},
     "output_type": "execute_result"
    },
    {
     "data": {
      "image/png": "[encoded data removed]",
      "text/plain": [
       "<Figure size 640x480 with 1 Axes>"
      ]
     },
     "metadata": {},
     "output_type": "display_data"
    }
   ],
   "source": [
    "y_values = np.float32(np.arctan(x_values*64))*2/np.pi\n",
    "plt.plot(x_values, y_values)\n",
    "plt.hlines(0.9, -1, 1, colors='r', linestyles='dashed')\n",
    "plt.hlines(-0.9, -1, 1, colors='r', linestyles='dashed')"
   ]
  },
  {
   "cell_type": "code",
   "execution_count": 193,
   "metadata": {},
   "outputs": [
    {
     "name": "stdout",
     "output_type": "stream",
     "text": [
      "4507 4507\n"
     ]
    }
   ],
   "source": [
    "flat_one = len(y_values[y_values < -0.9])\n",
    "flat_two = len(y_values[y_values > 0.9])\n",
    "print(flat_one, flat_two)"
   ]
  },
  {
   "cell_type": "code",
   "execution_count": 194,
   "metadata": {},
   "outputs": [],
   "source": [
    "y_values = y_values/y_values[0]"
   ]
  },
  {
   "cell_type": "code",
   "execution_count": 195,
   "metadata": {},
   "outputs": [
    {
     "data": {
      "text/plain": [
       "<matplotlib.collections.LineCollection at 0x1eee7d77e10>"
      ]
     },
     "execution_count": 195,
     "metadata": {},
     "output_type": "execute_result"
    },
    {
     "data": {
      "image/png": "[encoded data removed]",
      "text/plain": [
       "<Figure size 640x480 with 1 Axes>"
      ]
     },
     "metadata": {},
     "output_type": "display_data"
    }
   ],
   "source": [
    "plt.plot(x_values, y_values)\n",
    "plt.hlines(0.9, -1, 1, colors='r', linestyles='dashed')\n",
    "plt.hlines(-0.9, -1, 1, colors='r', linestyles='dashed')"
   ]
  },
  {
   "cell_type": "code",
   "execution_count": 196,
   "metadata": {},
   "outputs": [
    {
     "name": "stdout",
     "output_type": "stream",
     "text": [
      "4548 4548\n"
     ]
    }
   ],
   "source": [
    "flat_one = len(y_values[y_values < -0.9])\n",
    "flat_two = len(y_values[y_values > 0.9])\n",
    "print(flat_one, flat_two)"
   ]
  },
  {
   "cell_type": "code",
   "execution_count": 62,
   "metadata": {},
   "outputs": [],
   "source": [
    "def to_q31(x):\n",
    "    return int(x * 2**31)"
   ]
  },
  {
   "cell_type": "code",
   "execution_count": 63,
   "metadata": {},
   "outputs": [
    {
     "name": "stdout",
     "output_type": "stream",
     "text": [
      "142.0129882634997 568.0519530539988 -214748364 429496\n"
     ]
    }
   ],
   "source": [
    "num_samples = 1000\n",
    "ramp_begin = -0.1\n",
    "ramp_end = 0.1\n",
    "\n",
    "start_value = to_q31(ramp_begin)\n",
    "end_value = to_q31(ramp_end)\n",
    "step_size = (ramp_end - ramp_begin)/num_samples\n",
    "step_size = to_q31(step_size)\n",
    "scaling_factor = 6\n",
    "scaling = np.abs((2**scaling_factor)/(np.arctan(ramp_begin*(2**scaling_factor))/np.pi))\n",
    "amplitude = 4\n",
    "total_scaling = scaling * amplitude\n",
    "offset = 4\n",
    "print(scaling, total_scaling, start_value, step_size)"
   ]
  },
  {
   "cell_type": "code",
   "execution_count": 154,
   "metadata": {},
   "outputs": [],
   "source": [
    "def to_float(value: uint32, scaling: float, offset) -> float:\n",
    "    mask = 0xFFFFFFFF\n",
    "    sign_mask = 0x80000000\n",
    "    if (value & sign_mask) == 0:\n",
    "        val = int32(value)\n",
    "    else:\n",
    "        val = int32(-((value ^ mask) + 1))\n",
    "    print(val)\n",
    "    return ((val) / (1 << 31)) * scaling + offset"
   ]
  },
  {
   "cell_type": "code",
   "execution_count": 204,
   "metadata": {},
   "outputs": [],
   "source": [
    "def ramp_gen(sampling_freq, flat_scale, ramp_time, amplitude, offset, inverse=False):\n",
    "    cordic_scaling_factor = 6\n",
    "\n",
    "    num_samples = int(ramp_time * sampling_freq)\n",
    "    ramp_begin = -flat_scale\n",
    "    ramp_end = flat_scale\n",
    "    inverse = False\n",
    "    start_value = to_q31(ramp_begin)\n",
    "    end_value = to_q31(ramp_end)\n",
    "    step_size = (ramp_end - ramp_begin)/num_samples\n",
    "    step_size = to_q31(step_size)\n",
    "\n",
    "    scaling = (2**cordic_scaling_factor)/(np.arctan(ramp_begin*(2**cordic_scaling_factor))/np.pi)\n",
    "    scaling = -scaling if inverse else scaling\n",
    "    total_scaling = scaling * amplitude\n",
    "    print(total_scaling, offset, num_samples, start_value, step_size)\n",
    "    return total_scaling, offset, num_samples, start_value, step_size"
   ]
  },
  {
   "cell_type": "code",
   "execution_count": 206,
   "metadata": {},
   "outputs": [
    {
     "name": "stdout",
     "output_type": "stream",
     "text": [
      "-568.0519530539988 4 5000 -214748364 85899\n"
     ]
    }
   ],
   "source": [
    "ramp_gen(500000, 0.1, 0.01, 4, 4)"
   ]
  },
  {
   "cell_type": "code",
   "execution_count": 207,
   "metadata": {},
   "outputs": [],
   "source": [
    "def sin_gen(sample_freq, wave_freq, amplitude, offset):\n",
    "    num_samples = int(sample_freq/wave_freq)\n",
    "    start_value = 0\n",
    "    step_size = 0xFFFFFFFF/num_samples\n",
    "    return amplitude, offset, num_samples, start_value, step_size"
   ]
  },
  {
   "cell_type": "code",
   "execution_count": 211,
   "metadata": {},
   "outputs": [
    {
     "data": {
      "text/plain": [
       "(4, 0, 5000, 0, 858993.459)"
      ]
     },
     "execution_count": 211,
     "metadata": {},
     "output_type": "execute_result"
    }
   ],
   "source": [
    "sin_gen(500000, 100, 4, 0)"
   ]
  },
  {
   "cell_type": "code",
   "execution_count": null,
   "metadata": {},
   "outputs": [],
   "source": []
  }
 ],
 "metadata": {
  "kernelspec": {
   "display_name": "lockstar",
   "language": "python",
   "name": "python3"
  },
  "language_info": {
   "codemirror_mode": {
    "name": "ipython",
    "version": 3
   },
   "file_extension": ".py",
   "mimetype": "text/x-python",
   "name": "python",
   "nbconvert_exporter": "python",
   "pygments_lexer": "ipython3",
   "version": "3.11.3"
  }
 },
 "nbformat": 4,
 "nbformat_minor": 2
}
