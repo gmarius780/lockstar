{
 "cells": [
  {
   "cell_type": "code",
   "execution_count": 1,
   "metadata": {},
   "outputs": [],
   "source": [
    "import numpy as np\n",
    "from math import ceil\n",
    "\n",
    "from lockstar_rpi.BackendSettings import BackendSettings"
   ]
  },
  {
   "cell_type": "code",
   "execution_count": 9,
   "metadata": {},
   "outputs": [],
   "source": [
    "    def calculate_prescaler_counter(sampling_rate):\n",
    "        \"\"\"Calculate prescaler and counter for a given sampling_rate. The MC realizes a sampling rate by scaling down \n",
    "        the internal clock_frequency (BackendSettings.mc_sampling_clock_rate) with the prescaler and then counting up to\n",
    "        <counter> --> sampling_rate = internal_clock_rate / prescaler / counter\"\"\"\n",
    "        rate = BackendSettings.mc_sampling_clock_rate / sampling_rate\n",
    "        possible_prescalers = np.flip(np.arange(ceil(rate/BackendSettings.mc_max_counter), BackendSettings.mc_max_counter))\n",
    "        possible_counters = rate/possible_prescalers\n",
    "        best_counter = int(possible_counters[np.abs(possible_counters - possible_counters.astype(int)).argmin()])\n",
    "        best_prescaler = int(rate/best_counter)\n",
    "        print(possible_prescalers, possible_counters)\n",
    "        return best_prescaler , best_counter"
   ]
  },
  {
   "cell_type": "code",
   "execution_count": 10,
   "metadata": {},
   "outputs": [
    {
     "name": "stdout",
     "output_type": "stream",
     "text": [
      "[65535 65534 65533 ...     7     6     5] [4.19623102e+00 4.19629505e+00 4.19635909e+00 ... 3.92857143e+04\n",
      " 4.58333333e+04 5.50000000e+04]\n"
     ]
    },
    {
     "data": {
      "text/plain": [
       "(55000, 5)"
      ]
     },
     "execution_count": 10,
     "metadata": {},
     "output_type": "execute_result"
    }
   ],
   "source": [
    "calculate_prescaler_counter(1000)"
   ]
  },
  {
   "cell_type": "code",
   "execution_count": 12,
   "metadata": {},
   "outputs": [],
   "source": [
    "bit=\"16\"\n",
    "TIM_BASE_CLOCK=275000000\n",
    "TARGET_F = 1000\n",
    "error=0.0\n",
    "max_results=-1\n",
    "DUTY=50.0"
   ]
  },
  {
   "cell_type": "code",
   "execution_count": 14,
   "metadata": {},
   "outputs": [
    {
     "name": "stdout",
     "output_type": "stream",
     "text": [
      "TARGET_UPDATE_F_MAX 275000000.0\n",
      "TARGET_UPDATE_F_MIN 0.06402842700481415\n"
     ]
    }
   ],
   "source": [
    "TARGET_ARR_MAX = { \"8\": 2**8-1, \"16\": 2**16-1, \"32\": 2**32-1 }\n",
    "TARGET_PSC_MAX= { \"16\": 2**16-1 }\n",
    "TARGET_PSC=0\n",
    "TARGET_ARR=0\n",
    "\n",
    "\n",
    "\n",
    "TARGET_UPDATE_F_MAX = TIM_BASE_CLOCK / ((TARGET_PSC + 1)*(TARGET_ARR+1))\n",
    "TARGET_UPDATE_F_MIN = TIM_BASE_CLOCK / ((TARGET_PSC_MAX[\"16\"] + 1)*(TARGET_ARR_MAX[bit]+1))\n",
    "print(\"TARGET_UPDATE_F_MAX\", TARGET_UPDATE_F_MAX)\n",
    "print(\"TARGET_UPDATE_F_MIN\", TARGET_UPDATE_F_MIN)"
   ]
  },
  {
   "cell_type": "code",
   "execution_count": 15,
   "metadata": {},
   "outputs": [],
   "source": [
    "results = []\n",
    "\n",
    "def search_arr_psc():\n",
    "    right = TIM_BASE_CLOCK / TARGET_F\n",
    "    # right=int(right)\n",
    "    print(\"(arr+1)*(psc+1) = TIM_BASE_CLOCK / TARGET_F\")\n",
    "    print(\"(arr+1)*(psc+1) =\", TIM_BASE_CLOCK, \"/\", TARGET_F)\n",
    "    print(\"(arr+1)*(psc+1) =\",right)\n",
    "    if TIM_BASE_CLOCK % TARGET_F != 0:\n",
    "        print(\"\\nSOLUTION WITHOUT ERROR NOT POSSIBLE - TIM_BASE_CLOCK / TARGET_F is not integer\")\n",
    "        if error == 0:\n",
    "            print(\"You must use an --error= value >0 for this frequency!\")\n",
    "            quit()\n",
    "    print( \"Calculate...\")\n",
    "    for psc in range(0,TARGET_PSC_MAX[\"16\"]+1):\n",
    "        x = (TIM_BASE_CLOCK / (TARGET_F * (psc+1))) -1 \n",
    "        if TIM_BASE_CLOCK  % (psc+1) == 0 and x <= TARGET_ARR_MAX[bit]:\n",
    "            for arr in range(0,TARGET_ARR_MAX[bit]+1):\n",
    "                left = (arr+1)*(psc+1) \n",
    "                pererror = abs((1- (TARGET_F / (TIM_BASE_CLOCK/left)))*100)\n",
    "                if pererror <= error:\n",
    "                    freq = TIM_BASE_CLOCK/left\n",
    "                    d = int(arr/(100.0/DUTY))\n",
    "                    results.append({\"psc\":psc,\"arr\":arr,\"left\":left,\"freq\":freq,\"pererror\":pererror,\"delta\":abs(freq-TARGET_F),\"duty\":d})\n",
    "def secondlist(x):\n",
    "    s = x\n",
    "    ms = x*(10**3)\n",
    "    us = x*(10**6)\n",
    "    ns = x*(10**9)\n",
    "    ps = x*(10**12)\n",
    "    fs = x*(10**15)\n",
    "    return {\"s\":s, \"ms\":ms, \"µs\":us, \"ns\":ns, \"ps\":ps, \"fs\":fs}\n"
   ]
  },
  {
   "cell_type": "code",
   "execution_count": 16,
   "metadata": {},
   "outputs": [
    {
     "name": "stdout",
     "output_type": "stream",
     "text": [
      "(arr+1)*(psc+1) = TIM_BASE_CLOCK / TARGET_F\n",
      "(arr+1)*(psc+1) = 275000000 / 1000\n",
      "(arr+1)*(psc+1) = 275000.0\n",
      "Calculate...\n",
      "PSC: 4 ARR: 54999  => FREQ: 1000.0 [Hz] ERROR: 0.0 [%] - CRRx[ 50.0 %]: 27499\n",
      "PSC: 7 ARR: 34374  => FREQ: 1000.0 [Hz] ERROR: 0.0 [%] - CRRx[ 50.0 %]: 17187\n",
      "PSC: 9 ARR: 27499  => FREQ: 1000.0 [Hz] ERROR: 0.0 [%] - CRRx[ 50.0 %]: 13749\n",
      "PSC: 10 ARR: 24999  => FREQ: 1000.0 [Hz] ERROR: 0.0 [%] - CRRx[ 50.0 %]: 12499\n",
      "PSC: 19 ARR: 13749  => FREQ: 1000.0 [Hz] ERROR: 0.0 [%] - CRRx[ 50.0 %]: 6874\n",
      "PSC: 21 ARR: 12499  => FREQ: 1000.0 [Hz] ERROR: 0.0 [%] - CRRx[ 50.0 %]: 6249\n",
      "PSC: 24 ARR: 10999  => FREQ: 1000.0 [Hz] ERROR: 0.0 [%] - CRRx[ 50.0 %]: 5499\n",
      "PSC: 39 ARR: 6874  => FREQ: 1000.0 [Hz] ERROR: 0.0 [%] - CRRx[ 50.0 %]: 3437\n",
      "PSC: 43 ARR: 6249  => FREQ: 1000.0 [Hz] ERROR: 0.0 [%] - CRRx[ 50.0 %]: 3124\n",
      "PSC: 49 ARR: 5499  => FREQ: 1000.0 [Hz] ERROR: 0.0 [%] - CRRx[ 50.0 %]: 2749\n",
      "PSC: 54 ARR: 4999  => FREQ: 1000.0 [Hz] ERROR: 0.0 [%] - CRRx[ 50.0 %]: 2499\n",
      "PSC: 87 ARR: 3124  => FREQ: 1000.0 [Hz] ERROR: 0.0 [%] - CRRx[ 50.0 %]: 1562\n",
      "PSC: 99 ARR: 2749  => FREQ: 1000.0 [Hz] ERROR: 0.0 [%] - CRRx[ 50.0 %]: 1374\n",
      "PSC: 109 ARR: 2499  => FREQ: 1000.0 [Hz] ERROR: 0.0 [%] - CRRx[ 50.0 %]: 1249\n",
      "PSC: 124 ARR: 2199  => FREQ: 1000.0 [Hz] ERROR: 0.0 [%] - CRRx[ 50.0 %]: 1099\n",
      "PSC: 199 ARR: 1374  => FREQ: 1000.0 [Hz] ERROR: 0.0 [%] - CRRx[ 50.0 %]: 687\n",
      "PSC: 219 ARR: 1249  => FREQ: 1000.0 [Hz] ERROR: 0.0 [%] - CRRx[ 50.0 %]: 624\n",
      "PSC: 249 ARR: 1099  => FREQ: 1000.0 [Hz] ERROR: 0.0 [%] - CRRx[ 50.0 %]: 549\n",
      "PSC: 274 ARR: 999  => FREQ: 1000.0 [Hz] ERROR: 0.0 [%] - CRRx[ 50.0 %]: 499\n",
      "PSC: 439 ARR: 624  => FREQ: 1000.0 [Hz] ERROR: 0.0 [%] - CRRx[ 50.0 %]: 312\n",
      "PSC: 499 ARR: 549  => FREQ: 1000.0 [Hz] ERROR: 0.0 [%] - CRRx[ 50.0 %]: 274\n",
      "PSC: 549 ARR: 499  => FREQ: 1000.0 [Hz] ERROR: 0.0 [%] - CRRx[ 50.0 %]: 249\n",
      "PSC: 624 ARR: 439  => FREQ: 1000.0 [Hz] ERROR: 0.0 [%] - CRRx[ 50.0 %]: 219\n",
      "PSC: 999 ARR: 274  => FREQ: 1000.0 [Hz] ERROR: 0.0 [%] - CRRx[ 50.0 %]: 137\n",
      "PSC: 1099 ARR: 249  => FREQ: 1000.0 [Hz] ERROR: 0.0 [%] - CRRx[ 50.0 %]: 124\n",
      "PSC: 1249 ARR: 219  => FREQ: 1000.0 [Hz] ERROR: 0.0 [%] - CRRx[ 50.0 %]: 109\n",
      "PSC: 1374 ARR: 199  => FREQ: 1000.0 [Hz] ERROR: 0.0 [%] - CRRx[ 50.0 %]: 99\n",
      "PSC: 2199 ARR: 124  => FREQ: 1000.0 [Hz] ERROR: 0.0 [%] - CRRx[ 50.0 %]: 62\n",
      "PSC: 2499 ARR: 109  => FREQ: 1000.0 [Hz] ERROR: 0.0 [%] - CRRx[ 50.0 %]: 54\n",
      "PSC: 2749 ARR: 99  => FREQ: 1000.0 [Hz] ERROR: 0.0 [%] - CRRx[ 50.0 %]: 49\n",
      "PSC: 3124 ARR: 87  => FREQ: 1000.0 [Hz] ERROR: 0.0 [%] - CRRx[ 50.0 %]: 43\n",
      "PSC: 4999 ARR: 54  => FREQ: 1000.0 [Hz] ERROR: 0.0 [%] - CRRx[ 50.0 %]: 27\n",
      "PSC: 5499 ARR: 49  => FREQ: 1000.0 [Hz] ERROR: 0.0 [%] - CRRx[ 50.0 %]: 24\n",
      "PSC: 6249 ARR: 43  => FREQ: 1000.0 [Hz] ERROR: 0.0 [%] - CRRx[ 50.0 %]: 21\n",
      "PSC: 6874 ARR: 39  => FREQ: 1000.0 [Hz] ERROR: 0.0 [%] - CRRx[ 50.0 %]: 19\n",
      "PSC: 10999 ARR: 24  => FREQ: 1000.0 [Hz] ERROR: 0.0 [%] - CRRx[ 50.0 %]: 12\n",
      "PSC: 12499 ARR: 21  => FREQ: 1000.0 [Hz] ERROR: 0.0 [%] - CRRx[ 50.0 %]: 10\n",
      "PSC: 13749 ARR: 19  => FREQ: 1000.0 [Hz] ERROR: 0.0 [%] - CRRx[ 50.0 %]: 9\n",
      "PSC: 24999 ARR: 10  => FREQ: 1000.0 [Hz] ERROR: 0.0 [%] - CRRx[ 50.0 %]: 5\n",
      "PSC: 27499 ARR: 9  => FREQ: 1000.0 [Hz] ERROR: 0.0 [%] - CRRx[ 50.0 %]: 4\n",
      "PSC: 34374 ARR: 7  => FREQ: 1000.0 [Hz] ERROR: 0.0 [%] - CRRx[ 50.0 %]: 3\n",
      "PSC: 54999 ARR: 4  => FREQ: 1000.0 [Hz] ERROR: 0.0 [%] - CRRx[ 50.0 %]: 2\n",
      "42 Results. Reduce with --max=\n"
     ]
    }
   ],
   "source": [
    "search_arr_psc()\n",
    "\n",
    "if error != 0:\n",
    "    result_sorted = sorted(results, key = lambda i: (i['pererror']))\n",
    "else:\n",
    "    result_sorted = sorted(results, key = lambda i: (i['psc']))\n",
    "\n",
    "j=0\n",
    "for i in result_sorted:\n",
    "    if j == max_results:\n",
    "        quit()\n",
    "    print(\"PSC:\",i[\"psc\"],\"ARR:\",i[\"arr\"],\" => FREQ:\",i[\"freq\"],\"[Hz]\",\"ERROR:\",i[\"pererror\"],\"[%] - CRRx[\",DUTY,\"%]:\",i[\"duty\"])\n",
    "    j+=1\n",
    "print (j,\"Results. Reduce with --max=\")"
   ]
  },
  {
   "cell_type": "code",
   "execution_count": null,
   "metadata": {},
   "outputs": [],
   "source": []
  }
 ],
 "metadata": {
  "kernelspec": {
   "display_name": "lockstar",
   "language": "python",
   "name": "python3"
  },
  "language_info": {
   "codemirror_mode": {
    "name": "ipython",
    "version": 3
   },
   "file_extension": ".py",
   "mimetype": "text/x-python",
   "name": "python",
   "nbconvert_exporter": "python",
   "pygments_lexer": "ipython3",
   "version": "3.11.3"
  }
 },
 "nbformat": 4,
 "nbformat_minor": 2
}
