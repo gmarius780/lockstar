{
 "cells": [
  {
   "cell_type": "code",
   "execution_count": 11,
   "metadata": {},
   "outputs": [],
   "source": [
    "import numpy as np\n",
    "from math import ceil\n",
    "import matplotlib.pyplot as plt\n",
    "from lockstar_rpi.BackendSettings import BackendSettings"
   ]
  },
  {
   "cell_type": "code",
   "execution_count": 3,
   "metadata": {},
   "outputs": [],
   "source": [
    "    def calculate_prescaler_counter(sampling_rate):\n",
    "        \"\"\"Calculate prescaler and counter for a given sampling_rate. The MC realizes a sampling rate by scaling down \n",
    "        the internal clock_frequency (BackendSettings.mc_sampling_clock_rate) with the prescaler and then counting up to\n",
    "        <counter> --> sampling_rate = internal_clock_rate / prescaler / counter\"\"\"\n",
    "        rate = BackendSettings.mc_sampling_clock_rate / sampling_rate\n",
    "        possible_counters = np.flip(np.arange(ceil(rate/BackendSettings.mc_max_counter), BackendSettings.mc_max_counter))\n",
    "        possible_prescalers = rate/possible_counters\n",
    "        best_prescaler = int(possible_prescalers[np.abs(possible_prescalers - possible_prescalers.astype(int)).argmin()])\n",
    "        best_counter = int(rate/best_prescaler)\n",
    "        return best_prescaler - 1  , best_counter - 1"
   ]
  },
  {
   "cell_type": "code",
   "execution_count": 12,
   "metadata": {},
   "outputs": [
    {
     "data": {
      "text/plain": [
       "(0, 549)"
      ]
     },
     "execution_count": 12,
     "metadata": {},
     "output_type": "execute_result"
    }
   ],
   "source": [
    "calculate_prescaler_counter(500000)"
   ]
  },
  {
   "cell_type": "code",
   "execution_count": 37,
   "metadata": {},
   "outputs": [],
   "source": [
    "bit=\"16\"\n",
    "TIM_BASE_CLOCK=275000000\n",
    "TARGET_F = 850000\n",
    "error=1\n",
    "max_results=-1\n",
    "DUTY=50.0"
   ]
  },
  {
   "cell_type": "code",
   "execution_count": 38,
   "metadata": {},
   "outputs": [
    {
     "name": "stdout",
     "output_type": "stream",
     "text": [
      "TARGET_UPDATE_F_MAX 275000000.0\n",
      "TARGET_UPDATE_F_MIN 0.06402842700481415\n"
     ]
    }
   ],
   "source": [
    "TARGET_ARR_MAX = { \"8\": 2**8-1, \"16\": 2**16-1, \"32\": 2**32-1 }\n",
    "TARGET_PSC_MAX= { \"16\": 2**16-1 }\n",
    "TARGET_PSC=0\n",
    "TARGET_ARR=0\n",
    "\n",
    "\n",
    "\n",
    "TARGET_UPDATE_F_MAX = TIM_BASE_CLOCK / ((TARGET_PSC + 1)*(TARGET_ARR+1))\n",
    "TARGET_UPDATE_F_MIN = TIM_BASE_CLOCK / ((TARGET_PSC_MAX[\"16\"] + 1)*(TARGET_ARR_MAX[bit]+1))\n",
    "print(\"TARGET_UPDATE_F_MAX\", TARGET_UPDATE_F_MAX)\n",
    "print(\"TARGET_UPDATE_F_MIN\", TARGET_UPDATE_F_MIN)"
   ]
  },
  {
   "cell_type": "code",
   "execution_count": 39,
   "metadata": {},
   "outputs": [],
   "source": [
    "results = []\n",
    "\n",
    "def search_arr_psc():\n",
    "    right = TIM_BASE_CLOCK / TARGET_F\n",
    "    # right=int(right)\n",
    "    print(\"(arr+1)*(psc+1) = TIM_BASE_CLOCK / TARGET_F\")\n",
    "    print(\"(arr+1)*(psc+1) =\", TIM_BASE_CLOCK, \"/\", TARGET_F)\n",
    "    print(\"(arr+1)*(psc+1) =\",right)\n",
    "    if TIM_BASE_CLOCK % TARGET_F != 0:\n",
    "        print(\"\\nSOLUTION WITHOUT ERROR NOT POSSIBLE - TIM_BASE_CLOCK / TARGET_F is not integer\")\n",
    "        if error == 0:\n",
    "            print(\"You must use an --error= value >0 for this frequency!\")\n",
    "            quit()\n",
    "    print( \"Calculate...\")\n",
    "    for psc in range(0,TARGET_PSC_MAX[\"16\"]+1):\n",
    "        x = (TIM_BASE_CLOCK / (TARGET_F * (psc+1))) -1 \n",
    "        if TIM_BASE_CLOCK  % (psc+1) == 0 and x <= TARGET_ARR_MAX[bit]:\n",
    "            for arr in range(0,TARGET_ARR_MAX[bit]+1):\n",
    "                left = (arr+1)*(psc+1) \n",
    "                pererror = abs((1- (TARGET_F / (TIM_BASE_CLOCK/left)))*100)\n",
    "                if pererror <= error:\n",
    "                    freq = TIM_BASE_CLOCK/left\n",
    "                    d = int(arr/(100.0/DUTY))\n",
    "                    results.append({\"psc\":psc,\"arr\":arr,\"left\":left,\"freq\":freq,\"pererror\":pererror,\"delta\":abs(freq-TARGET_F),\"duty\":d})\n",
    "def secondlist(x):\n",
    "    s = x\n",
    "    ms = x*(10**3)\n",
    "    us = x*(10**6)\n",
    "    ns = x*(10**9)\n",
    "    ps = x*(10**12)\n",
    "    fs = x*(10**15)\n",
    "    return {\"s\":s, \"ms\":ms, \"µs\":us, \"ns\":ns, \"ps\":ps, \"fs\":fs}\n"
   ]
  },
  {
   "cell_type": "code",
   "execution_count": 40,
   "metadata": {},
   "outputs": [
    {
     "name": "stdout",
     "output_type": "stream",
     "text": [
      "(arr+1)*(psc+1) = TIM_BASE_CLOCK / TARGET_F\n",
      "(arr+1)*(psc+1) = 275000000 / 850000\n",
      "(arr+1)*(psc+1) = 323.52941176470586\n",
      "\n",
      "SOLUTION WITHOUT ERROR NOT POSSIBLE - TIM_BASE_CLOCK / TARGET_F is not integer\n",
      "Calculate...\n",
      "PSC: 0 ARR: 323  => FREQ: 848765.4320987654 [Hz] ERROR: 0.1454545454545597 [%] - CRRx[ 50.0 %]: 161\n",
      "PSC: 1 ARR: 161  => FREQ: 848765.4320987654 [Hz] ERROR: 0.1454545454545597 [%] - CRRx[ 50.0 %]: 80\n",
      "PSC: 3 ARR: 80  => FREQ: 848765.4320987654 [Hz] ERROR: 0.1454545454545597 [%] - CRRx[ 50.0 %]: 40\n",
      "PSC: 0 ARR: 322  => FREQ: 851393.1888544891 [Hz] ERROR: 0.1636363636363547 [%] - CRRx[ 50.0 %]: 161\n",
      "PSC: 0 ARR: 324  => FREQ: 846153.8461538461 [Hz] ERROR: 0.454545454545463 [%] - CRRx[ 50.0 %]: 162\n",
      "PSC: 4 ARR: 64  => FREQ: 846153.8461538461 [Hz] ERROR: 0.454545454545463 [%] - CRRx[ 50.0 %]: 32\n",
      "PSC: 24 ARR: 12  => FREQ: 846153.8461538461 [Hz] ERROR: 0.454545454545463 [%] - CRRx[ 50.0 %]: 6\n",
      "PSC: 0 ARR: 321  => FREQ: 854037.2670807453 [Hz] ERROR: 0.4727272727272691 [%] - CRRx[ 50.0 %]: 160\n",
      "PSC: 1 ARR: 160  => FREQ: 854037.2670807453 [Hz] ERROR: 0.4727272727272691 [%] - CRRx[ 50.0 %]: 80\n",
      "PSC: 0 ARR: 325  => FREQ: 843558.2822085889 [Hz] ERROR: 0.7636363636363663 [%] - CRRx[ 50.0 %]: 162\n",
      "PSC: 1 ARR: 162  => FREQ: 843558.2822085889 [Hz] ERROR: 0.7636363636363663 [%] - CRRx[ 50.0 %]: 81\n",
      "PSC: 0 ARR: 320  => FREQ: 856697.8193146418 [Hz] ERROR: 0.7818181818181835 [%] - CRRx[ 50.0 %]: 160\n",
      "12 Results. Reduce with --max=\n"
     ]
    }
   ],
   "source": [
    "search_arr_psc()\n",
    "\n",
    "if error != 0:\n",
    "    result_sorted = sorted(results, key = lambda i: (i['pererror']))\n",
    "else:\n",
    "    result_sorted = sorted(results, key = lambda i: (i['psc']))\n",
    "\n",
    "j=0\n",
    "for i in result_sorted:\n",
    "    if j == max_results:\n",
    "        quit()\n",
    "    print(\"PSC:\",i[\"psc\"],\"ARR:\",i[\"arr\"],\" => FREQ:\",i[\"freq\"],\"[Hz]\",\"ERROR:\",i[\"pererror\"],\"[%] - CRRx[\",DUTY,\"%]:\",i[\"duty\"])\n",
    "    j+=1\n",
    "print (j,\"Results. Reduce with --max=\")"
   ]
  },
  {
   "cell_type": "code",
   "execution_count": 48,
   "metadata": {},
   "outputs": [],
   "source": [
    "num_samples = 1000\n",
    "amplitude = np.float32(1.0)\n",
    "frequency = np.float32(1.0)\n",
    "x_values = np.float32(np.linspace(0.25, -0.25, num_samples+1))"
   ]
  },
  {
   "cell_type": "code",
   "execution_count": 59,
   "metadata": {},
   "outputs": [
    {
     "data": {
      "text/plain": [
       "0.96026295"
      ]
     },
     "execution_count": 59,
     "metadata": {},
     "output_type": "execute_result"
    },
    {
     "data": {
      "image/png": "[encoded data removed]",
      "text/plain": [
       "<Figure size 640x480 with 1 Axes>"
      ]
     },
     "metadata": {},
     "output_type": "display_data"
    }
   ],
   "source": [
    "y_values = np.float32(np.arctan(x_values*64))*2/np.pi\n",
    "plt.plot(x_values, y_values)\n",
    "y_values[0]"
   ]
  },
  {
   "cell_type": "code",
   "execution_count": 57,
   "metadata": {},
   "outputs": [],
   "source": [
    "y_values = y_values/y_values[0]"
   ]
  },
  {
   "cell_type": "code",
   "execution_count": 58,
   "metadata": {},
   "outputs": [
    {
     "data": {
      "text/plain": [
       "[<matplotlib.lines.Line2D at 0x1983229f090>]"
      ]
     },
     "execution_count": 58,
     "metadata": {},
     "output_type": "execute_result"
    },
    {
     "data": {
      "image/png": "[encoded data removed]",
      "text/plain": [
       "<Figure size 640x480 with 1 Axes>"
      ]
     },
     "metadata": {},
     "output_type": "display_data"
    }
   ],
   "source": [
    "plt.plot(x_values, y_values)"
   ]
  },
  {
   "cell_type": "code",
   "execution_count": null,
   "metadata": {},
   "outputs": [],
   "source": []
  }
 ],
 "metadata": {
  "kernelspec": {
   "display_name": "lockstar",
   "language": "python",
   "name": "python3"
  },
  "language_info": {
   "codemirror_mode": {
    "name": "ipython",
    "version": 3
   },
   "file_extension": ".py",
   "mimetype": "text/x-python",
   "name": "python",
   "nbconvert_exporter": "python",
   "pygments_lexer": "ipython3",
   "version": "3.11.3"
  }
 },
 "nbformat": 4,
 "nbformat_minor": 2
}
