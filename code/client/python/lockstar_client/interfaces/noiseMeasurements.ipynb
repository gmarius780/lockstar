{
 "cells": [
  {
   "cell_type": "code",
   "execution_count": 1,
   "metadata": {},
   "outputs": [],
   "source": [
    "import asyncio\n",
    "import logging\n",
    "from lockstar_client.ScopeClient import ScopeClient\n",
    "from lockstar_general.backend.BackendCall import BackendCall"
   ]
  },
  {
   "cell_type": "code",
   "execution_count": 2,
   "metadata": {},
   "outputs": [],
   "source": [
    "class AnalogOutputClient(ScopeClient):\n",
    "    def __init__(self, lockstar_ip, lockstar_port, client_id) -> None:\n",
    "        super().__init__(lockstar_ip, lockstar_port, client_id, 'AnalogOutputModule')\n",
    "\n",
    "    async def initialize(self):\n",
    "        pass\n",
    "    \n",
    "    async def output_on(self):\n",
    "        bc = BackendCall(self.client_id, 'AnalogOutputModule', 'output_on', args={})\n",
    "        return await self._call_lockstar(bc)\n",
    "\n",
    "    async def output_off(self):\n",
    "        bc = BackendCall(self.client_id, 'AnalogOutputModule', 'output_off', args={})\n",
    "        return await self._call_lockstar(bc)\n",
    "\n",
    "    async def output_ttl(self):\n",
    "        bc = BackendCall(self.client_id, 'AnalogOutputModule', 'output_ttl', args={})\n",
    "        return await self._call_lockstar(bc)\n",
    "\n",
    "    async def set_ch_one_output(self, value: float):\n",
    "        bc = BackendCall(self.client_id, 'AnalogOutputModule', 'set_ch_one_output', args={'value': value})\n",
    "        return await self._call_lockstar(bc)\n",
    "    \n",
    "    async def set_ch_two_output(self, value: float):\n",
    "        bc = BackendCall(self.client_id, 'AnalogOutputModule', 'set_ch_two_output', args={'value': value})\n",
    "        return await self._call_lockstar(bc)"
   ]
  },
  {
   "cell_type": "code",
   "execution_count": 3,
   "metadata": {},
   "outputs": [],
   "source": [
    "client = AnalogOutputClient('192.168.137.2', 10780, 1234)"
   ]
  },
  {
   "cell_type": "code",
   "execution_count": 4,
   "metadata": {},
   "outputs": [
    {
     "data": {
      "text/plain": [
       "True"
      ]
     },
     "execution_count": 4,
     "metadata": {},
     "output_type": "execute_result"
    }
   ],
   "source": [
    "await client.register_client_id()"
   ]
  },
  {
   "cell_type": "code",
   "execution_count": 19,
   "metadata": {},
   "outputs": [
    {
     "data": {
      "text/plain": [
       "ACK"
      ]
     },
     "execution_count": 19,
     "metadata": {},
     "output_type": "execute_result"
    }
   ],
   "source": [
    "temp = 0\n",
    "await client.set_ch_one_output(temp)\n",
    "await client.set_ch_two_output(temp)"
   ]
  },
  {
   "cell_type": "code",
   "execution_count": null,
   "metadata": {},
   "outputs": [],
   "source": [
    "await client.set_ch_one_output(0)\n",
    "await client.set_ch_two_output(0)\n",
    "for i in range(0, 100):\n",
    "    temp = i/100\n",
    "    await client.set_ch_one_output(temp)\n",
    "    await client.set_ch_two_output(temp)\n",
    "    await asyncio.sleep(0.5)"
   ]
  }
 ],
 "metadata": {
  "kernelspec": {
   "display_name": "lockstar",
   "language": "python",
   "name": "python3"
  },
  "language_info": {
   "codemirror_mode": {
    "name": "ipython",
    "version": 3
   },
   "file_extension": ".py",
   "mimetype": "text/x-python",
   "name": "python",
   "nbconvert_exporter": "python",
   "pygments_lexer": "ipython3",
   "version": "3.11.3"
  }
 },
 "nbformat": 4,
 "nbformat_minor": 2
}
