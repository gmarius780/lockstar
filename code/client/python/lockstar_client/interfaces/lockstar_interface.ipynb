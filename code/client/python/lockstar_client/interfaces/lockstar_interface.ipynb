{
 "cells": [
  {
   "cell_type": "code",
   "execution_count": 16,
   "metadata": {},
   "outputs": [
    {
     "data": {
      "text/plain": [
       "<_UnixSelectorEventLoop running=True closed=False debug=False>"
      ]
     },
     "execution_count": 16,
     "metadata": {},
     "output_type": "execute_result"
    }
   ],
   "source": [
    "from os.path import join,dirname,abspath\n",
    "import numpy as np\n",
    "import matplotlib.pyplot as plt\n",
    "import asyncio\n",
    "asyncio.get_event_loop()"
   ]
  },
  {
   "cell_type": "code",
   "execution_count": 17,
   "metadata": {},
   "outputs": [],
   "source": [
    "from lockstar_client.SinglePIDClient import SinglePIDClient\n",
    "from lockstar_client.AWGClient import AWGClient\n",
    "from lockstar_client.LinearizationClient import LinearizationClient\n",
    "from lockstar_client.AWGPIDClient import AWGPIDClient"
   ]
  },
  {
   "cell_type": "markdown",
   "metadata": {},
   "source": [
    "## Linearization Client\n",
    "\n",
    "The code in the next cell is how any client is registered. \n",
    "After initialization, the client methods can be called by using\n",
    "await client.client_method()"
   ]
  },
  {
   "cell_type": "code",
   "execution_count": 4,
   "metadata": {},
   "outputs": [
    {
     "name": "stdout",
     "output_type": "stream",
     "text": [
      "Successfully initialized Linearization module\n"
     ]
    }
   ],
   "source": [
    "lin_client = LinearizationClient('192.168.88.25', 10780, 1234)\n",
    "if await lin_client.register_client_id():\n",
    "     print(f'Successfully initialized Linearization module')"
   ]
  },
  {
   "cell_type": "markdown",
   "metadata": {},
   "source": []
  },
  {
   "cell_type": "markdown",
   "metadata": {},
   "source": [
    "\n",
    "This module outputs a user-specified ramp, measures the static gain of the system\n",
    "and calculates the linearization paramters. These are then stored in a file and can be used\n",
    "by any other module.\n",
    "\n",
    "The code below will plot the measurement and the inverted measurement after ~10s."
   ]
  },
  {
   "cell_type": "code",
   "execution_count": 5,
   "metadata": {},
   "outputs": [
    {
     "data": {
      "image/png": "[encoded data removed]",
      "text/plain": [
       "<Figure size 432x288 with 1 Axes>"
      ]
     },
     "metadata": {
      "needs_background": "light"
     },
     "output_type": "display_data"
    }
   ],
   "source": [
    "ramp_start = 0.\n",
    "ramp_end = 10.\n",
    "ramp_length = 2000\n",
    "settling_time_ms = 1\n",
    "\n",
    "linearization_file = join(dirname(abspath('')), 'test_linearization.json')\n",
    "# print(await lin_client.set_linearization_length_one(ramp_length))\n",
    "# print(await lin_client.set_linearization_one_from_file(linearization_file))\n",
    "# sys.exit()\n",
    "ramp = np.linspace(ramp_start, ramp_end, num=ramp_length)\n",
    "\n",
    "_ = await lin_client.set_ramp_parameters(ramp_start, ramp_end, ramp_length, settling_time_ms)\n",
    "linearization_response = await lin_client.linearize_ch_one()\n",
    "\n",
    "if linearization_response != False:\n",
    "    measured_gain, linearization = linearization_response\n",
    "    fig,ax = plt.subplots(1,1)\n",
    "    ax.plot(ramp,measured_gain,label='measured gain')\n",
    "    ax.plot(ramp,linearization,label='linearizaion')\n",
    "    ax.legend()\n",
    "    ax.grid('lightgray')\n",
    "    plt.show()\n",
    "\n",
    "    _ = await lin_client.store_linearization_locally(linearization, ramp_start, ramp_end, linearization_file)\n",
    "\n",
    "    _ = await lin_client.set_linearization_length_one(ramp_length)\n",
    "    #_ = await lin_client.set_linearization_one(linearization, min_output_voltage=ramp_start, max_output_voltage=ramp_end)\n",
    "    _ = await lin_client.set_linearization_one_from_file(linearization_file)\n",
    "\n",
    "    "
   ]
  },
  {
   "cell_type": "markdown",
   "metadata": {},
   "source": [
    "## Single PID Client"
   ]
  },
  {
   "cell_type": "code",
   "execution_count": 8,
   "metadata": {},
   "outputs": [
    {
     "name": "stdout",
     "output_type": "stream",
     "text": [
      "Successfully initialized single PID module\n"
     ]
    }
   ],
   "source": [
    "#connect to client\n",
    "pid_client = SinglePIDClient('192.168.88.211', 10780, 1234)\n",
    "await pid_client.initialize(1,2,3,4,5, True, 0, 1)\n",
    "if await pid_client.register_client_id():\n",
    "     print(f'Successfully initialized single PID module')"
   ]
  },
  {
   "cell_type": "code",
   "execution_count": 9,
   "metadata": {},
   "outputs": [
    {
     "data": {
      "text/plain": [
       "ACK"
      ]
     },
     "execution_count": 9,
     "metadata": {},
     "output_type": "execute_result"
    }
   ],
   "source": [
    "await pid_client.set_output_limits(min=0, max=10)"
   ]
  },
  {
   "cell_type": "code",
   "execution_count": 16,
   "metadata": {},
   "outputs": [
    {
     "data": {
      "text/plain": [
       "ACK"
      ]
     },
     "execution_count": 16,
     "metadata": {},
     "output_type": "execute_result"
    }
   ],
   "source": [
    "await pid_client.set_pid(p=0.1, i=100, d=0, input_offset=0, output_offset=0)"
   ]
  },
  {
   "cell_type": "code",
   "execution_count": 12,
   "metadata": {},
   "outputs": [
    {
     "data": {
      "text/plain": [
       "ACK"
      ]
     },
     "execution_count": 12,
     "metadata": {},
     "output_type": "execute_result"
    }
   ],
   "source": [
    "await pid_client.lock()"
   ]
  },
  {
   "cell_type": "code",
   "execution_count": null,
   "metadata": {},
   "outputs": [],
   "source": [
    "await pid_client.unlock()"
   ]
  },
  {
   "cell_type": "markdown",
   "metadata": {},
   "source": [
    "# AWG Client"
   ]
  },
  {
   "cell_type": "code",
   "execution_count": 20,
   "metadata": {},
   "outputs": [
    {
     "name": "stdout",
     "output_type": "stream",
     "text": [
      "Successfully initialized AWG module\n"
     ]
    }
   ],
   "source": [
    "awg_client = AWGClient('192.168.88.25', 10780, 1234)\n",
    "await awg_client.initialize()\n",
    "if await awg_client.register_client_id():\n",
    "    print(f'Successfully initialized AWG module')"
   ]
  },
  {
   "cell_type": "markdown",
   "metadata": {},
   "source": [
    "ch_x_chunks (x=one,two) holds the lengths of the concatenated waveforms.\n",
    "The next chunk of both channels is triggered by calling output_on().\n",
    "output_off() resets the pointer to the first chunk.\n",
    "\n",
    "Max. number of chunks (sum of both channels) is 100.\n",
    "In total you can have 40000 samples.\n",
    "\n",
    "ch_x_buffer holds the waveforms.\n",
    "If linearization is desired, use the next cell containing\n",
    "set_linearization_length_x and set_linearization_x_from_file.\n",
    "\n",
    "(There are two known bugs:\n",
    "After the first time setting the linearization it returns a NACK.\n",
    "Just execute the cell again, it should work.\n",
    "Also after a few times setting the channel buffers, is also returns NACKs.\n",
    "Please call the cell containing flash_mc to reset the microcontroller)"
   ]
  },
  {
   "cell_type": "code",
   "execution_count": 31,
   "metadata": {},
   "outputs": [
    {
     "data": {
      "image/png": "[encoded data removed]",
      "text/plain": [
       "<Figure size 640x480 with 1 Axes>"
      ]
     },
     "metadata": {},
     "output_type": "display_data"
    },
    {
     "name": "stdout",
     "output_type": "stream",
     "text": [
      "ACK\n",
      "ACK\n",
      "ACK\n",
      "ACK\n",
      "ACK\n",
      "ACK\n",
      "ACK\n"
     ]
    }
   ],
   "source": [
    "linearization_file = join(dirname(abspath('')), 'test_linearization.json')\n",
    "linearization_length = 2000\n",
    "\n",
    "sampling_rate = 1000\n",
    "\n",
    "ch_one_chunks = [1999]\n",
    "ch_one_buffer = np.sin(np.pi*np.linspace(0,1,1000))\n",
    "ch_one_buffer = np.concatenate([ch_one_buffer,np.linspace(0,3,1000)])\n",
    "plt.plot(np.linspace(0,10,2000),ch_one_buffer)\n",
    "plt.show()\n",
    "ch_one_buffer = ch_one_buffer.tolist()\n",
    "ch_two_chunks = [0]\n",
    "ch_two_buffer = [0.]\n",
    "print(await awg_client.initialize_buffers(len(ch_one_buffer), 1, len(ch_one_chunks), 1, sampling_rate))\n",
    "print(await awg_client.set_ch_one_output_limits(0, 10))\n",
    "print(await awg_client.set_ch_two_output_limits(0, 10))\n",
    "print(await awg_client.set_ch_one_chunks(ch_one_chunks))\n",
    "print(await awg_client.set_ch_two_chunks(ch_two_chunks))\n",
    "print(await awg_client.set_ch_one_buffer(ch_one_buffer))\n",
    "print(await awg_client.set_ch_two_buffer(ch_two_buffer))\n"
   ]
  },
  {
   "cell_type": "code",
   "execution_count": 32,
   "metadata": {},
   "outputs": [
    {
     "name": "stdout",
     "output_type": "stream",
     "text": [
      "ACK\n",
      "set inverted pivot points:\n",
      "ACK\n"
     ]
    }
   ],
   "source": [
    "print(await awg_client.set_linearization_length_one(linearization_length))\n",
    "print(\"set inverted pivot points:\")\n",
    "print(await awg_client.set_linearization_one_from_file(linearization_file))"
   ]
  },
  {
   "cell_type": "code",
   "execution_count": 21,
   "metadata": {},
   "outputs": [
    {
     "data": {
      "text/plain": [
       "ACK"
      ]
     },
     "execution_count": 21,
     "metadata": {},
     "output_type": "execute_result"
    }
   ],
   "source": [
    "await awg_client.output_on()"
   ]
  },
  {
   "cell_type": "markdown",
   "metadata": {},
   "source": [
    "Use this to reset the module:"
   ]
  },
  {
   "cell_type": "code",
   "execution_count": 30,
   "metadata": {},
   "outputs": [
    {
     "data": {
      "text/plain": [
       "ACK"
      ]
     },
     "execution_count": 30,
     "metadata": {},
     "output_type": "execute_result"
    }
   ],
   "source": [
    "await awg_client.flash_mc()"
   ]
  },
  {
   "attachments": {},
   "cell_type": "markdown",
   "metadata": {},
   "source": [
    "# Matrix Client"
   ]
  },
  {
   "attachments": {},
   "cell_type": "markdown",
   "metadata": {},
   "source": [
    "The following code is intended to be used in conjunction with the Matrix. The Matrix is currently programmed to send samples to the lockstar before every run, which are then used as setpoint for PID loops running on the Lockstar. These samples (or chunks as they are called internally) are triggered via the TTL input of the Lockstar.\n",
    "\n",
    "The following notebook is intended to be used for the following tasks:\n",
    "\n",
    "- Finding and setting (for now) PID parameters\n",
    "- Checking if the right setpoints have been sent to the Lockstar by the Matrix (for debugging)"
   ]
  },
  {
   "cell_type": "code",
   "execution_count": 27,
   "metadata": {},
   "outputs": [
    {
     "data": {
      "text/plain": [
       "True"
      ]
     },
     "execution_count": 27,
     "metadata": {},
     "output_type": "execute_result"
    }
   ],
   "source": [
    "#initializing the client\n",
    "awg_pid_client = AWGPIDClient('192.168.88.25', 10780, 10780) #client-id: 10780 is the one the Matrix uses --> like that the python client can overwrite stuff set by the Matrix and vice versa\n",
    "await awg_pid_client.register_client_id()"
   ]
  },
  {
   "attachments": {},
   "cell_type": "markdown",
   "metadata": {},
   "source": [
    "## Linearization"
   ]
  },
  {
   "cell_type": "code",
   "execution_count": 72,
   "metadata": {},
   "outputs": [
    {
     "name": "stdout",
     "output_type": "stream",
     "text": [
      "set inverted pivot points:\n"
     ]
    },
    {
     "data": {
      "text/plain": [
       "ACK"
      ]
     },
     "execution_count": 72,
     "metadata": {},
     "output_type": "execute_result"
    }
   ],
   "source": [
    "linearization_file = join(dirname(abspath('')), 'test_linearization.json')\n",
    "linearization_length = 2000\n",
    "await awg_pid_client.set_linearization_length_one(linearization_length)\n",
    "print(\"set inverted pivot points:\")\n",
    "await awg_pid_client.set_linearization_one_from_file(linearization_file)\n"
   ]
  },
  {
   "attachments": {},
   "cell_type": "markdown",
   "metadata": {},
   "source": [
    "## Setting PID"
   ]
  },
  {
   "cell_type": "code",
   "execution_count": 15,
   "metadata": {},
   "outputs": [
    {
     "ename": "TypeError",
     "evalue": "__repr__ returned non-string (type dict)",
     "output_type": "error",
     "traceback": [
      "\u001b[0;31m---------------------------------------------------------------------------\u001b[0m",
      "\u001b[0;31mTypeError\u001b[0m                                 Traceback (most recent call last)",
      "\u001b[0;32m~/miniconda3/envs/lockstar/lib/python3.9/site-packages/IPython/core/formatters.py\u001b[0m in \u001b[0;36m__call__\u001b[0;34m(self, obj)\u001b[0m\n\u001b[1;32m    700\u001b[0m                 \u001b[0mtype_pprinters\u001b[0m\u001b[0;34m=\u001b[0m\u001b[0mself\u001b[0m\u001b[0;34m.\u001b[0m\u001b[0mtype_printers\u001b[0m\u001b[0;34m,\u001b[0m\u001b[0;34m\u001b[0m\u001b[0;34m\u001b[0m\u001b[0m\n\u001b[1;32m    701\u001b[0m                 deferred_pprinters=self.deferred_printers)\n\u001b[0;32m--> 702\u001b[0;31m             \u001b[0mprinter\u001b[0m\u001b[0;34m.\u001b[0m\u001b[0mpretty\u001b[0m\u001b[0;34m(\u001b[0m\u001b[0mobj\u001b[0m\u001b[0;34m)\u001b[0m\u001b[0;34m\u001b[0m\u001b[0;34m\u001b[0m\u001b[0m\n\u001b[0m\u001b[1;32m    703\u001b[0m             \u001b[0mprinter\u001b[0m\u001b[0;34m.\u001b[0m\u001b[0mflush\u001b[0m\u001b[0;34m(\u001b[0m\u001b[0;34m)\u001b[0m\u001b[0;34m\u001b[0m\u001b[0;34m\u001b[0m\u001b[0m\n\u001b[1;32m    704\u001b[0m             \u001b[0;32mreturn\u001b[0m \u001b[0mstream\u001b[0m\u001b[0;34m.\u001b[0m\u001b[0mgetvalue\u001b[0m\u001b[0;34m(\u001b[0m\u001b[0;34m)\u001b[0m\u001b[0;34m\u001b[0m\u001b[0;34m\u001b[0m\u001b[0m\n",
      "\u001b[0;32m~/miniconda3/envs/lockstar/lib/python3.9/site-packages/IPython/lib/pretty.py\u001b[0m in \u001b[0;36mpretty\u001b[0;34m(self, obj)\u001b[0m\n\u001b[1;32m    392\u001b[0m                         \u001b[0;32mif\u001b[0m \u001b[0mcls\u001b[0m \u001b[0;32mis\u001b[0m \u001b[0;32mnot\u001b[0m \u001b[0mobject\u001b[0m\u001b[0;31m \u001b[0m\u001b[0;31m\\\u001b[0m\u001b[0;34m\u001b[0m\u001b[0;34m\u001b[0m\u001b[0m\n\u001b[1;32m    393\u001b[0m                                 \u001b[0;32mand\u001b[0m \u001b[0mcallable\u001b[0m\u001b[0;34m(\u001b[0m\u001b[0mcls\u001b[0m\u001b[0;34m.\u001b[0m\u001b[0m__dict__\u001b[0m\u001b[0;34m.\u001b[0m\u001b[0mget\u001b[0m\u001b[0;34m(\u001b[0m\u001b[0;34m'__repr__'\u001b[0m\u001b[0;34m)\u001b[0m\u001b[0;34m)\u001b[0m\u001b[0;34m:\u001b[0m\u001b[0;34m\u001b[0m\u001b[0;34m\u001b[0m\u001b[0m\n\u001b[0;32m--> 394\u001b[0;31m                             \u001b[0;32mreturn\u001b[0m \u001b[0m_repr_pprint\u001b[0m\u001b[0;34m(\u001b[0m\u001b[0mobj\u001b[0m\u001b[0;34m,\u001b[0m \u001b[0mself\u001b[0m\u001b[0;34m,\u001b[0m \u001b[0mcycle\u001b[0m\u001b[0;34m)\u001b[0m\u001b[0;34m\u001b[0m\u001b[0;34m\u001b[0m\u001b[0m\n\u001b[0m\u001b[1;32m    395\u001b[0m \u001b[0;34m\u001b[0m\u001b[0m\n\u001b[1;32m    396\u001b[0m             \u001b[0;32mreturn\u001b[0m \u001b[0m_default_pprint\u001b[0m\u001b[0;34m(\u001b[0m\u001b[0mobj\u001b[0m\u001b[0;34m,\u001b[0m \u001b[0mself\u001b[0m\u001b[0;34m,\u001b[0m \u001b[0mcycle\u001b[0m\u001b[0;34m)\u001b[0m\u001b[0;34m\u001b[0m\u001b[0;34m\u001b[0m\u001b[0m\n",
      "\u001b[0;32m~/miniconda3/envs/lockstar/lib/python3.9/site-packages/IPython/lib/pretty.py\u001b[0m in \u001b[0;36m_repr_pprint\u001b[0;34m(obj, p, cycle)\u001b[0m\n\u001b[1;32m    698\u001b[0m     \u001b[0;34m\"\"\"A pprint that just redirects to the normal repr function.\"\"\"\u001b[0m\u001b[0;34m\u001b[0m\u001b[0;34m\u001b[0m\u001b[0m\n\u001b[1;32m    699\u001b[0m     \u001b[0;31m# Find newlines and replace them with p.break_()\u001b[0m\u001b[0;34m\u001b[0m\u001b[0;34m\u001b[0m\u001b[0m\n\u001b[0;32m--> 700\u001b[0;31m     \u001b[0moutput\u001b[0m \u001b[0;34m=\u001b[0m \u001b[0mrepr\u001b[0m\u001b[0;34m(\u001b[0m\u001b[0mobj\u001b[0m\u001b[0;34m)\u001b[0m\u001b[0;34m\u001b[0m\u001b[0;34m\u001b[0m\u001b[0m\n\u001b[0m\u001b[1;32m    701\u001b[0m     \u001b[0mlines\u001b[0m \u001b[0;34m=\u001b[0m \u001b[0moutput\u001b[0m\u001b[0;34m.\u001b[0m\u001b[0msplitlines\u001b[0m\u001b[0;34m(\u001b[0m\u001b[0;34m)\u001b[0m\u001b[0;34m\u001b[0m\u001b[0;34m\u001b[0m\u001b[0m\n\u001b[1;32m    702\u001b[0m     \u001b[0;32mwith\u001b[0m \u001b[0mp\u001b[0m\u001b[0;34m.\u001b[0m\u001b[0mgroup\u001b[0m\u001b[0;34m(\u001b[0m\u001b[0;34m)\u001b[0m\u001b[0;34m:\u001b[0m\u001b[0;34m\u001b[0m\u001b[0;34m\u001b[0m\u001b[0m\n",
      "\u001b[0;31mTypeError\u001b[0m: __repr__ returned non-string (type dict)"
     ]
    }
   ],
   "source": [
    "await awg_pid_client.set_pid_one(p=1, i=1000, d=0, input_offset=0., output_offset=0., i_threshold=0.001)\n",
    "await awg_pid_client.enable_intensity_lock_mode_one()"
   ]
  },
  {
   "cell_type": "code",
   "execution_count": 6,
   "metadata": {},
   "outputs": [
    {
     "data": {
      "text/plain": [
       "ACK"
      ]
     },
     "execution_count": 6,
     "metadata": {},
     "output_type": "execute_result"
    }
   ],
   "source": [
    "await awg_pid_client.set_pid_two(p=1, i=1000, d=0, input_offset=0., output_offset=0., i_threshold=0.001)\n",
    "await awg_pid_client.enable_intensity_lock_mode_two()"
   ]
  },
  {
   "attachments": {},
   "cell_type": "markdown",
   "metadata": {},
   "source": [
    "## Getting the setpoints"
   ]
  },
  {
   "cell_type": "code",
   "execution_count": 61,
   "metadata": {},
   "outputs": [
    {
     "data": {
      "image/png": "[encoded data removed]",
      "text/plain": [
       "<Figure size 432x288 with 2 Axes>"
      ]
     },
     "metadata": {
      "needs_background": "light"
     },
     "output_type": "display_data"
    }
   ],
   "source": [
    "ch_one_chunks = np.array(await awg_pid_client.get_ch_one_chunks())\n",
    "ch_two_chunks = np.array(await awg_pid_client.get_ch_two_chunks())\n",
    "ch_one_buffer = np.array(await awg_pid_client.get_ch_one_buffer())\n",
    "ch_two_buffer = np.array(await awg_pid_client.get_ch_two_buffer())\n",
    "\n",
    "sampling_rate = await awg_pid_client.get_sampling_rate()\n",
    "\n",
    "n_samples_one = ch_one_buffer.size\n",
    "n_samples_two = ch_two_buffer.size\n",
    "\n",
    "t_axis_one = np.linspace(0, n_samples_one/sampling_rate, num=n_samples_one)\n",
    "t_axis_two = np.linspace(0, n_samples_two/sampling_rate, num=n_samples_two)\n",
    "\n",
    "fig, (ax_one, ax_two) = plt.subplots(nrows=2)\n",
    "\n",
    "ax_one.plot(t_axis_one, ch_one_buffer)\n",
    "ax_two.plot(t_axis_two, ch_two_buffer)\n",
    "\n",
    "#displaying chunks\n",
    "for chunk in ch_one_chunks:\n",
    "    ax_one.axvline(x=t_axis_one[chunk])\n",
    "\n",
    "for chunk in ch_two_chunks:\n",
    "    ax_two.axvline(x=t_axis_two[chunk])\n",
    "\n",
    "ax_one.set_xlabel('time (s)')\n",
    "ax_two.set_xlabel('time (s)')\n",
    "ax_one.set_ylabel('CH 1 setpoint (V)')\n",
    "ax_two.set_ylabel('CH 2 setpoint (V)')\n",
    "\n",
    "\n",
    "plt.show()"
   ]
  },
  {
   "cell_type": "code",
   "execution_count": 9,
   "metadata": {},
   "outputs": [
    {
     "data": {
      "text/plain": [
       "NACK"
      ]
     },
     "execution_count": 9,
     "metadata": {},
     "output_type": "execute_result"
    }
   ],
   "source": [
    "await awg_pid_client.flash_mc()"
   ]
  },
  {
   "attachments": {},
   "cell_type": "markdown",
   "metadata": {},
   "source": [
    "## Setting Setpoints"
   ]
  },
  {
   "cell_type": "code",
   "execution_count": 69,
   "metadata": {},
   "outputs": [
    {
     "data": {
      "text/plain": [
       "ACK"
      ]
     },
     "execution_count": 69,
     "metadata": {},
     "output_type": "execute_result"
    }
   ],
   "source": [
    "sampling_rate = 100\n",
    "        \n",
    "ch_one_chunks = [0]\n",
    "# ch_one_chunks = [999, 1999, 2999, 3999, 4999]\n",
    "ch_two_chunks = [1999, 2999]\n",
    "# ch_one_buffer = np.concatenate((np.sin(np.linspace(0, 2*np.pi, num=1000)),\n",
    "#                                 np.linspace(0, 1, num=1000),\n",
    "#                                 np.cos(np.linspace(0, 6*np.pi, num=1000)),\n",
    "#                                 np.linspace(1, -3, num=1000),\n",
    "#                                 np.linspace(-3, 0, num=1000))).tolist()\n",
    "ch_one_buffer = (1+(np.sin(np.linspace(0, 1*2*np.pi, num=1)))).tolist()\n",
    "\n",
    "# ch_one_buffer = (1+np.concatenate((np.sin(np.linspace(0, 1*2*np.pi, num=1000)),\n",
    "#                                 np.sin(np.linspace(0, 1*2*np.pi, num=1000)),\n",
    "#                                 np.sin(np.linspace(0, 1*2*np.pi, num=1000)),\n",
    "#                                 np.sin(np.linspace(0, 1*2*np.pi, num=1000)),\n",
    "#                                 np.sin(np.linspace(0, 1*2*np.pi, num=1000))))).tolist()\n",
    "\n",
    "ch_two_buffer = (1+np.concatenate((np.cos(np.linspace(0, 50*2*np.pi, num=2000)),\n",
    "                                np.linspace(1, 4, num=500), np.linspace(4, 1, num=500)))).tolist()\n",
    "\n",
    "\n",
    "# ch_one_chunks = [1999]\n",
    "# ch_two_chunks = [1999]\n",
    "\n",
    "# ch_one_buffer = np.sin(np.linspace(0, 50*2*np.pi, num=2000)).tolist()\n",
    "# ch_two_buffer = np.sin(np.linspace(0, 50*2*np.pi, num=2000)).tolist()\n",
    "\n",
    "\n",
    "# print(client.set_ch_one_output_limits(0, 1))\n",
    "await awg_pid_client.initialize_buffers(len(ch_one_buffer), len(ch_two_buffer), len(ch_one_chunks), len(ch_two_chunks), sampling_rate)\n",
    "await awg_pid_client.set_ch_one_output_limits(-5, 5)\n",
    "await awg_pid_client.set_ch_two_output_limits(-5, 5)\n",
    "await awg_pid_client.set_ch_one_chunks(ch_one_chunks)\n",
    "await awg_pid_client.set_ch_two_chunks(ch_two_chunks)\n",
    "await awg_pid_client.set_ch_one_buffer(ch_one_buffer)\n",
    "await awg_pid_client.set_ch_two_buffer(ch_two_buffer)\n",
    "await awg_pid_client.output_ttl()"
   ]
  },
  {
   "cell_type": "code",
   "execution_count": 67,
   "metadata": {},
   "outputs": [
    {
     "data": {
      "text/plain": [
       "ACK"
      ]
     },
     "execution_count": 67,
     "metadata": {},
     "output_type": "execute_result"
    }
   ],
   "source": [
    "await awg_pid_client.set_pid_one(p=1, i=0, d=0, input_offset=0., output_offset=0., i_threshold=0.)\n",
    "await awg_pid_client.set_pid_two(p=1, i=0, d=0, input_offset=0., output_offset=0., i_threshold=0.)\n",
    "await awg_pid_client.enable_intensity_lock_mode_one()\n",
    "await awg_pid_client.enable_intensity_lock_mode_two()\n",
    "await awg_pid_client.lock()\n",
    "await awg_pid_client.output_ttl()"
   ]
  },
  {
   "cell_type": "code",
   "execution_count": 57,
   "metadata": {},
   "outputs": [
    {
     "data": {
      "text/plain": [
       "ACK"
      ]
     },
     "execution_count": 57,
     "metadata": {},
     "output_type": "execute_result"
    }
   ],
   "source": []
  },
  {
   "cell_type": "code",
   "execution_count": 71,
   "metadata": {},
   "outputs": [
    {
     "data": {
      "text/plain": [
       "ACK"
      ]
     },
     "execution_count": 71,
     "metadata": {},
     "output_type": "execute_result"
    }
   ],
   "source": [
    "await awg_pid_client.enable_intensity_lock_mode_one()\n",
    "await awg_pid_client.enable_intensity_lock_mode_two()"
   ]
  },
  {
   "cell_type": "code",
   "execution_count": 74,
   "metadata": {},
   "outputs": [
    {
     "data": {
      "text/plain": [
       "ACK"
      ]
     },
     "execution_count": 74,
     "metadata": {},
     "output_type": "execute_result"
    }
   ],
   "source": [
    "await awg_pid_client.set_sampling_rate(1_000)"
   ]
  },
  {
   "cell_type": "code",
   "execution_count": 75,
   "metadata": {},
   "outputs": [],
   "source": [
    "for i in range(10):\n",
    "    await awg_pid_client.set_ch_one_output_limits(0, 6)\n",
    "    await awg_pid_client.set_ch_two_output_limits(0, 6)\n",
    "    await awg_pid_client.register_client_id()\n",
    "    await awg_pid_client.lock()"
   ]
  },
  {
   "cell_type": "code",
   "execution_count": 51,
   "metadata": {},
   "outputs": [
    {
     "data": {
      "text/plain": [
       "ACK"
      ]
     },
     "execution_count": 51,
     "metadata": {},
     "output_type": "execute_result"
    }
   ],
   "source": [
    "await awg_pid_client.output_ttl()"
   ]
  },
  {
   "cell_type": "code",
   "execution_count": 43,
   "metadata": {},
   "outputs": [
    {
     "data": {
      "text/plain": [
       "NACK"
      ]
     },
     "execution_count": 43,
     "metadata": {},
     "output_type": "execute_result"
    }
   ],
   "source": [
    "await awg_pid_client.flash_mc()"
   ]
  },
  {
   "cell_type": "code",
   "execution_count": null,
   "metadata": {},
   "outputs": [],
   "source": []
  }
 ],
 "metadata": {
  "kernelspec": {
   "display_name": "lockstar",
   "language": "python",
   "name": "python3"
  },
  "language_info": {
   "codemirror_mode": {
    "name": "ipython",
    "version": 3
   },
   "file_extension": ".py",
   "mimetype": "text/x-python",
   "name": "python",
   "nbconvert_exporter": "python",
   "pygments_lexer": "ipython3",
   "version": "3.9.7"
  },
  "vscode": {
   "interpreter": {
    "hash": "ca13151859a25eeeabbacd6ec85dbbe5986b32a9e7a47274525fb8a665807f99"
   }
  }
 },
 "nbformat": 4,
 "nbformat_minor": 2
}
