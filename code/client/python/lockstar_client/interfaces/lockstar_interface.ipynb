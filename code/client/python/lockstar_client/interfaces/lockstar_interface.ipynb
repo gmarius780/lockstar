{
 "cells": [
  {
   "cell_type": "code",
   "execution_count": 1,
   "metadata": {},
   "outputs": [
    {
     "data": {
      "text/plain": [
       "<_WindowsSelectorEventLoop running=True closed=False debug=False>"
      ]
     },
     "execution_count": 1,
     "metadata": {},
     "output_type": "execute_result"
    }
   ],
   "source": [
    "from os.path import join,dirname,abspath\n",
    "import numpy as np\n",
    "import matplotlib.pyplot as plt\n",
    "import asyncio\n",
    "asyncio.get_event_loop()"
   ]
  },
  {
   "cell_type": "code",
   "execution_count": 2,
   "metadata": {},
   "outputs": [],
   "source": [
    "from lockstar_client.SinglePIDClient import SinglePIDClient\n",
    "from lockstar_client.AWGClient import AWGClient\n",
    "from lockstar_client.LinearizationClient import LinearizationClient\n",
    "from lockstar_client.AWGPIDClient import AWGPIDClient"
   ]
  },
  {
   "cell_type": "markdown",
   "metadata": {},
   "source": [
    "## Linearization Client\n",
    "\n",
    "The code in the next cell is how any client is registered. \n",
    "After initialization, the client methods can be called by using\n",
    "await client.client_method()"
   ]
  },
  {
   "cell_type": "code",
   "execution_count": null,
   "metadata": {},
   "outputs": [],
   "source": [
    "lin_client = LinearizationClient('192.168.88.211', 10780, 1234)\n",
    "if await lin_client.register_client_id():\n",
    "     print(f'Successfully initialized Linearization module')"
   ]
  },
  {
   "cell_type": "markdown",
   "metadata": {},
   "source": [
    "\n",
    "This module outputs a user-specified ramp, measures the static gain of the system\n",
    "and calculates the linearization paramters. These are then stored in a file and can be used\n",
    "by any other module.\n",
    "\n",
    "The code below will plot the measurement and the inverted measurement after ~10s."
   ]
  },
  {
   "cell_type": "code",
   "execution_count": null,
   "metadata": {},
   "outputs": [],
   "source": [
    "ramp_start = 0.\n",
    "ramp_end = 10.\n",
    "ramp_length = 2000\n",
    "settling_time_ms = 1\n",
    "\n",
    "linearization_file = join(dirname(abspath('')), 'test_linearization.json')\n",
    "# print(await lin_client.set_linearization_length_one(ramp_length))\n",
    "# print(await lin_client.set_linearization_one_from_file(linearization_file))\n",
    "# sys.exit()\n",
    "ramp = np.linspace(ramp_start, ramp_end, num=ramp_length)\n",
    "\n",
    "_ = await lin_client.set_ramp_parameters(ramp_start, ramp_end, ramp_length, settling_time_ms)\n",
    "linearization_response = await lin_client.linearize_ch_one()\n",
    "\n",
    "if linearization_response != False:\n",
    "    measured_gain, linearization = linearization_response\n",
    "    fig,ax = plt.subplots(1,1)\n",
    "    ax.plot(ramp,measured_gain,label='measured gain')\n",
    "    ax.plot(ramp,linearization,label='linearizaion')\n",
    "    ax.legend()\n",
    "    ax.grid('lightgray')\n",
    "    plt.show()\n",
    "\n",
    "    _ = await lin_client.store_linearization_locally(linearization, ramp_start, ramp_end, linearization_file)\n",
    "\n",
    "    _ = await lin_client.set_linearization_length_one(ramp_length)\n",
    "    #_ = await lin_client.set_linearization_one(linearization, min_output_voltage=ramp_start, max_output_voltage=ramp_end)\n",
    "    _ = await lin_client.set_linearization_one_from_file(linearization_file)\n",
    "\n",
    "    "
   ]
  },
  {
   "cell_type": "markdown",
   "metadata": {},
   "source": [
    "## Single PID Client"
   ]
  },
  {
   "cell_type": "code",
   "execution_count": 8,
   "metadata": {},
   "outputs": [
    {
     "name": "stdout",
     "output_type": "stream",
     "text": [
      "Successfully initialized single PID module\n"
     ]
    }
   ],
   "source": [
    "#connect to client\n",
    "pid_client = SinglePIDClient('192.168.88.211', 10780, 1234)\n",
    "await pid_client.initialize(1,2,3,4,5, True, 0, 1)\n",
    "if await pid_client.register_client_id():\n",
    "     print(f'Successfully initialized single PID module')"
   ]
  },
  {
   "cell_type": "code",
   "execution_count": 9,
   "metadata": {},
   "outputs": [
    {
     "data": {
      "text/plain": [
       "ACK"
      ]
     },
     "execution_count": 9,
     "metadata": {},
     "output_type": "execute_result"
    }
   ],
   "source": [
    "await pid_client.set_output_limits(min=0, max=10)"
   ]
  },
  {
   "cell_type": "code",
   "execution_count": 16,
   "metadata": {},
   "outputs": [
    {
     "data": {
      "text/plain": [
       "ACK"
      ]
     },
     "execution_count": 16,
     "metadata": {},
     "output_type": "execute_result"
    }
   ],
   "source": [
    "await pid_client.set_pid(p=0.1, i=100, d=0, input_offset=0, output_offset=0)"
   ]
  },
  {
   "cell_type": "code",
   "execution_count": 12,
   "metadata": {},
   "outputs": [
    {
     "data": {
      "text/plain": [
       "ACK"
      ]
     },
     "execution_count": 12,
     "metadata": {},
     "output_type": "execute_result"
    }
   ],
   "source": [
    "await pid_client.lock()"
   ]
  },
  {
   "cell_type": "code",
   "execution_count": null,
   "metadata": {},
   "outputs": [],
   "source": [
    "await pid_client.unlock()"
   ]
  },
  {
   "cell_type": "markdown",
   "metadata": {},
   "source": [
    "# AWG Client"
   ]
  },
  {
   "cell_type": "code",
   "execution_count": 17,
   "metadata": {},
   "outputs": [
    {
     "name": "stdout",
     "output_type": "stream",
     "text": [
      "Successfully initialized AWG module\n"
     ]
    }
   ],
   "source": [
    "awg_client = AWGClient('192.168.88.211', 10780, 1234)\n",
    "await awg_client.initialize()\n",
    "if await awg_client.register_client_id():\n",
    "    print(f'Successfully initialized AWG module')"
   ]
  },
  {
   "cell_type": "markdown",
   "metadata": {},
   "source": [
    "ch_x_chunks (x=one,two) holds the lengths of the concatenated waveforms.\n",
    "The next chunk of both channels is triggered by calling output_on().\n",
    "output_off() resets the pointer to the first chunk.\n",
    "\n",
    "Max. number of chunks (sum of both channels) is 100.\n",
    "In total you can have 40000 samples.\n",
    "\n",
    "ch_x_buffer holds the waveforms.\n",
    "If linearization is desired, use the next cell containing\n",
    "set_linearization_length_x and set_linearization_x_from_file.\n",
    "\n",
    "(There are two known bugs:\n",
    "After the first time setting the linearization it returns a NACK.\n",
    "Just execute the cell again, it should work.\n",
    "Also after a few times setting the channel buffers, is also returns NACKs.\n",
    "Please call the cell containing flash_mc to reset the microcontroller)"
   ]
  },
  {
   "cell_type": "code",
   "execution_count": 31,
   "metadata": {},
   "outputs": [
    {
     "data": {
      "image/png": "[encoded data removed]",
      "text/plain": [
       "<Figure size 640x480 with 1 Axes>"
      ]
     },
     "metadata": {},
     "output_type": "display_data"
    },
    {
     "name": "stdout",
     "output_type": "stream",
     "text": [
      "ACK\n",
      "ACK\n",
      "ACK\n",
      "ACK\n",
      "ACK\n",
      "ACK\n",
      "ACK\n"
     ]
    }
   ],
   "source": [
    "linearization_file = join(dirname(abspath('')), 'test_linearization.json')\n",
    "linearization_length = 2000\n",
    "\n",
    "sampling_rate = 1000\n",
    "\n",
    "ch_one_chunks = [1999]\n",
    "ch_one_buffer = np.sin(np.pi*np.linspace(0,1,1000))\n",
    "ch_one_buffer = np.concatenate([ch_one_buffer,np.linspace(0,3,1000)])\n",
    "plt.plot(np.linspace(0,10,2000),ch_one_buffer)\n",
    "plt.show()\n",
    "ch_one_buffer = ch_one_buffer.tolist()\n",
    "ch_two_chunks = [0]\n",
    "ch_two_buffer = [0.]\n",
    "print(await awg_client.initialize_buffers(len(ch_one_buffer), 1, len(ch_one_chunks), 1, sampling_rate))\n",
    "print(await awg_client.set_ch_one_output_limits(0, 10))\n",
    "print(await awg_client.set_ch_two_output_limits(0, 10))\n",
    "print(await awg_client.set_ch_one_chunks(ch_one_chunks))\n",
    "print(await awg_client.set_ch_two_chunks(ch_two_chunks))\n",
    "print(await awg_client.set_ch_one_buffer(ch_one_buffer))\n",
    "print(await awg_client.set_ch_two_buffer(ch_two_buffer))\n"
   ]
  },
  {
   "cell_type": "code",
   "execution_count": 32,
   "metadata": {},
   "outputs": [
    {
     "name": "stdout",
     "output_type": "stream",
     "text": [
      "ACK\n",
      "set inverted pivot points:\n",
      "ACK\n"
     ]
    }
   ],
   "source": [
    "print(await awg_client.set_linearization_length_one(linearization_length))\n",
    "print(\"set inverted pivot points:\")\n",
    "print(await awg_client.set_linearization_one_from_file(linearization_file))"
   ]
  },
  {
   "cell_type": "code",
   "execution_count": 21,
   "metadata": {},
   "outputs": [
    {
     "data": {
      "text/plain": [
       "ACK"
      ]
     },
     "execution_count": 21,
     "metadata": {},
     "output_type": "execute_result"
    }
   ],
   "source": [
    "await awg_client.output_on()"
   ]
  },
  {
   "cell_type": "markdown",
   "metadata": {},
   "source": [
    "Use this to reset the module:"
   ]
  },
  {
   "cell_type": "code",
   "execution_count": 30,
   "metadata": {},
   "outputs": [
    {
     "data": {
      "text/plain": [
       "ACK"
      ]
     },
     "execution_count": 30,
     "metadata": {},
     "output_type": "execute_result"
    }
   ],
   "source": [
    "await awg_client.flash_mc()"
   ]
  },
  {
   "attachments": {},
   "cell_type": "markdown",
   "metadata": {},
   "source": [
    "# Matrix Client"
   ]
  },
  {
   "attachments": {},
   "cell_type": "markdown",
   "metadata": {},
   "source": [
    "The following code is intended to be used in conjunction with the Matrix. The Matrix is currently programmed to send samples to the lockstar before every run, which are then used as setpoint for PID loops running on the Lockstar. These samples (or chunks as they are called internally) are triggered via the TTL input of the Lockstar.\n",
    "\n",
    "The following notebook is intended to be used for the following tasks:\n",
    "\n",
    "- Finding and setting (for now) PID parameters\n",
    "- Checking if the right setpoints have been sent to the Lockstar by the Matrix (for debugging)"
   ]
  },
  {
   "cell_type": "markdown",
   "metadata": {},
   "source": []
  },
  {
   "attachments": {},
   "cell_type": "markdown",
   "metadata": {},
   "source": [
    "## Getting the setpoints"
   ]
  },
  {
   "cell_type": "code",
   "execution_count": null,
   "metadata": {},
   "outputs": [],
   "source": [
    "#initializing the client\n",
    "awg_pid_client = AWGPIDClient('192.168.88.25', 10780, 10780) #client-id: 10780 is the one the Matrix uses --> like that the python client can overwrite stuff set by the Matrix and vice versa"
   ]
  },
  {
   "cell_type": "code",
   "execution_count": null,
   "metadata": {},
   "outputs": [],
   "source": [
    "ch_one_chunks = np.array(awg_pid_client.get_ch_one_chunks())\n",
    "ch_two_chunks = np.array(awg_pid_client.get_ch_two_chunks())\n",
    "ch_one_buffer = np.array(awg_pid_client.get_ch_one_buffer())\n",
    "ch_two_buffer = np.array(awg_pid_client.get_ch_two_buffer())\n",
    "\n",
    "sampling_rate = awg_pid_client.get_sampling_rate()\n",
    "\n",
    "n_samples_one = len(ch_one_buffer)\n",
    "n_samples_two = len(ch_two_buffer)\n",
    "\n",
    "t_axis_one = np.linspace(0, n_samples_one/sampling_rate, num=n_samples_one)\n",
    "t_axis_two = np.linspace(0, n_samples_two/sampling_rate, num=n_samples_two)\n",
    "\n",
    "fig, (ax_one, ax_two) = plt.subplots(nrows=2)\n",
    "\n",
    "ax_one.plot(t_axis_one, ch_one_buffer)\n",
    "ax_two.plot(t_axis_two, ch_two_buffer)\n",
    "\n",
    "#displaying chunks\n",
    "for chunk in ch_one_chunks:\n",
    "    ax_one.axvline(x=t_axis_one[chunk])\n",
    "\n",
    "for chunk in ch_two_chunks:\n",
    "    ax_two.axvline(x=t_axis_two[chunk])\n",
    "\n",
    "ax_one.set_xlabel('time (s)')\n",
    "ax_two.set_xlabel('time (s)')\n",
    "ax_one.set_ylabel('CH 1 setpoint (V)')\n",
    "ax_two.set_ylabel('CH 2 setpoint (V)')\n",
    "\n",
    "plt.show()"
   ]
  }
 ],
 "metadata": {
  "kernelspec": {
   "display_name": "lockstar",
   "language": "python",
   "name": "python3"
  },
  "language_info": {
   "codemirror_mode": {
    "name": "ipython",
    "version": 3
   },
   "file_extension": ".py",
   "mimetype": "text/x-python",
   "name": "python",
   "nbconvert_exporter": "python",
   "pygments_lexer": "ipython3",
   "version": "3.9.7"
  },
  "vscode": {
   "interpreter": {
    "hash": "ca13151859a25eeeabbacd6ec85dbbe5986b32a9e7a47274525fb8a665807f99"
   }
  }
 },
 "nbformat": 4,
 "nbformat_minor": 2
}
