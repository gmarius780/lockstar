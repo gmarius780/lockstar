{
 "cells": [
  {
   "cell_type": "code",
   "execution_count": 1,
   "metadata": {},
   "outputs": [],
   "source": [
    "import asyncio\n",
    "import logging\n",
    "from lockstar_general.backend.BackendResponse import BackendResponse\n",
    "from lockstar_general.backend.BackendCall import BackendCall\n",
    "from lockstar_client.BufferBaseClient_ import BufferBaseClient_\n",
    "import numpy as np\n"
   ]
  },
  {
   "cell_type": "code",
   "execution_count": 2,
   "metadata": {},
   "outputs": [],
   "source": [
    "class FGClient(BufferBaseClient_):\n",
    "    \"\"\"Basic Module which implements a simple PID controller by using input_1 as error signal,\n",
    "    input_2 as setpoint and output 1 for the control signal\"\"\"\n",
    "\n",
    "    def __init__(self, lockstar_ip, lockstar_port, client_id) -> None:\n",
    "        super().__init__(lockstar_ip, lockstar_port, client_id, \"FGModule\")\n",
    "\n",
    "    async def set_cfunction(self, func: str, scale: str):\n",
    "        bc = BackendCall(\n",
    "            self.client_id,\n",
    "            \"FGModule\",\n",
    "            \"set_cfunction\",\n",
    "            args={\"func\": func, \"scale\": scale},\n",
    "        )\n",
    "        return await self._call_lockstar(bc)\n",
    "\n",
    "    async def start_ccalculation(\n",
    "        self\n",
    "    ):\n",
    "        bc = BackendCall(\n",
    "            self.client_id,\n",
    "            \"FGModule\",\n",
    "            \"start_ccalculation\",\n",
    "            args={},\n",
    "        )\n",
    "        return await self._call_lockstar(bc)\n",
    "\n",
    "    async def start_output(self):\n",
    "        bc = BackendCall(self.client_id, \"FGModule\", \"start_output\", args={})\n",
    "        return await self._call_lockstar(bc)\n"
   ]
  },
  {
   "cell_type": "code",
   "execution_count": 3,
   "metadata": {},
   "outputs": [
    {
     "data": {
      "text/plain": [
       "True"
      ]
     },
     "execution_count": 3,
     "metadata": {},
     "output_type": "execute_result"
    }
   ],
   "source": [
    "client = FGClient('192.168.137.2', 10780, 1234)\n",
    "await client.register_client_id()"
   ]
  },
  {
   "cell_type": "code",
   "execution_count": 4,
   "metadata": {},
   "outputs": [],
   "source": [
    "async def prep_output(func_buffer):\n",
    "    sampling_rate = 300000\n",
    "    await client.set_sampling_rate(sampling_rate)\n",
    "    await client.set_ch_one_output_limits(-10, 10)\n",
    "    await client.set_ch_two_output_limits(-10, 10)\n",
    "    await client.unclamp_output()\n",
    "    await client.set_ch_func_buffer(func_buffer, buffer_one=True)\n",
    "    await client.set_ch_func_buffer(func_buffer, buffer_one=False)\n",
    "    await client.start_ccalculation()"
   ]
  },
  {
   "cell_type": "code",
   "execution_count": 57,
   "metadata": {},
   "outputs": [],
   "source": [
    "func_buffer = [\n",
    "    {\n",
    "        \"ll_func\": 0x00000001,\n",
    "        \"ll_scaling\": 0x00000000,\n",
    "        \"start_value\": 0,\n",
    "        \"step_size\": 2147483,\n",
    "        \"num_samples\": 2000,\n",
    "        \"total_scaling\": 4,\n",
    "        \"offset\": 0,\n",
    "        \"n_periods\": 100,\n",
    "        \"time_start\": 2,\n",
    "    },\n",
    "    {\n",
    "    \"ll_func\": 0x00000004,\n",
    "    \"ll_scaling\": 0x00000600,\n",
    "    \"start_value\": -214748364,\n",
    "    \"step_size\": 185899,\n",
    "    \"num_samples\": 2000,\n",
    "    \"total_scaling\": -568.0519530539988,\n",
    "    \"offset\": 4,\n",
    "    \"n_periods\": 10,\n",
    "    \"time_start\": 2,\n",
    "    },\n",
    "    {\n",
    "    \"ll_func\": 0x00000001,\n",
    "    \"ll_scaling\": 0x00000000,\n",
    "    \"start_value\": 0,\n",
    "    \"step_size\": 429497,\n",
    "    \"num_samples\": 10000,\n",
    "    \"total_scaling\": 6,\n",
    "    \"offset\": 0,\n",
    "    \"n_periods\": 20,\n",
    "    \"time_start\": 2,\n",
    "    },\n",
    "]"
   ]
  },
  {
   "cell_type": "code",
   "execution_count": 58,
   "metadata": {},
   "outputs": [],
   "source": [
    "await prep_output(func_buffer)"
   ]
  },
  {
   "cell_type": "code",
   "execution_count": 59,
   "metadata": {},
   "outputs": [
    {
     "data": {
      "text/plain": [
       "ACK"
      ]
     },
     "execution_count": 59,
     "metadata": {},
     "output_type": "execute_result"
    }
   ],
   "source": [
    "await client.start_output()"
   ]
  },
  {
   "cell_type": "code",
   "execution_count": 244,
   "metadata": {},
   "outputs": [
    {
     "data": {
      "text/plain": [
       "ACK"
      ]
     },
     "execution_count": 244,
     "metadata": {},
     "output_type": "execute_result"
    }
   ],
   "source": [
    "await client.set_ch_func_buffer(func_buffer, buffer_one=True)\n",
    "await client.set_ch_func_buffer(func_buffer, buffer_one=False)"
   ]
  },
  {
   "cell_type": "code",
   "execution_count": null,
   "metadata": {},
   "outputs": [],
   "source": []
  }
 ],
 "metadata": {
  "kernelspec": {
   "display_name": "lockstar",
   "language": "python",
   "name": "python3"
  },
  "language_info": {
   "codemirror_mode": {
    "name": "ipython",
    "version": 3
   },
   "file_extension": ".py",
   "mimetype": "text/x-python",
   "name": "python",
   "nbconvert_exporter": "python",
   "pygments_lexer": "ipython3",
   "version": "3.11.3"
  }
 },
 "nbformat": 4,
 "nbformat_minor": 2
}
